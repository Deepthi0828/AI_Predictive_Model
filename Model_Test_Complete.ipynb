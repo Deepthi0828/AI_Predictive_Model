{
 "cells": [
  {
   "cell_type": "code",
   "execution_count": 93,
   "id": "7ee6d174-3e05-485e-b46f-1e824c17ab78",
   "metadata": {},
   "outputs": [],
   "source": [
    "from sklearn.datasets import load_iris\n",
    "from sklearn.datasets import make_classification\n",
    "from sklearn.ensemble import RandomForestClassifier\n",
    "from sklearn.ensemble import RandomForestRegressor\n",
    "from sklearn.linear_model import LogisticRegression\n",
    "from sklearn.metrics import accuracy_score, precision_score, recall_score, f1_score, classification_report\n",
    "from sklearn.model_selection import cross_val_score\n",
    "from sklearn.model_selection import learning_curve\n",
    "from sklearn.model_selection import train_test_split\n",
    "from sklearn.model_selection import train_test_split, GridSearchCV\n",
    "from sklearn.preprocessing import LabelEncoder\n",
    "from sklearn.preprocessing import LabelEncoder, StandardScaler\n",
    "import joblib\n",
    "import matplotlib.pyplot as plt\n",
    "import numpy as np\n",
    "import pandas as pd"
   ]
  },
  {
   "cell_type": "code",
   "execution_count": 95,
   "id": "e69b8da0-ebb7-4e39-aa2a-a214977cc383",
   "metadata": {},
   "outputs": [
    {
     "name": "stdout",
     "output_type": "stream",
     "text": [
      "<class 'pandas.core.frame.DataFrame'>\n",
      "RangeIndex: 1000 entries, 0 to 999\n",
      "Data columns (total 11 columns):\n",
      " #   Column              Non-Null Count  Dtype \n",
      "---  ------              --------------  ----- \n",
      " 0   Incident ID         1000 non-null   object\n",
      " 1   Date                1000 non-null   object\n",
      " 2   Location            1000 non-null   object\n",
      " 3   Hazard Type         1000 non-null   object\n",
      " 4   Severity            1000 non-null   int64 \n",
      " 5   Cause               1000 non-null   object\n",
      " 6   Failure Cause       1000 non-null   object\n",
      " 7   Equipment Type      1000 non-null   object\n",
      " 8   Risk Level          1000 non-null   object\n",
      " 9   Recommended Action  1000 non-null   object\n",
      " 10  Outcome             1000 non-null   object\n",
      "dtypes: int64(1), object(10)\n",
      "memory usage: 86.1+ KB\n",
      "<class 'pandas.core.frame.DataFrame'>\n",
      "RangeIndex: 1000 entries, 0 to 999\n",
      "Data columns (total 7 columns):\n",
      " #   Column            Non-Null Count  Dtype \n",
      "---  ------            --------------  ----- \n",
      " 0   Equipment ID      1000 non-null   object\n",
      " 1   Failure Date      1000 non-null   object\n",
      " 2   Type              1000 non-null   object\n",
      " 3   Maintenance Date  1000 non-null   object\n",
      " 4   Failure Cause     1000 non-null   object\n",
      " 5   Risk Level        1000 non-null   object\n",
      " 6   Severity          1000 non-null   int64 \n",
      "dtypes: int64(1), object(6)\n",
      "memory usage: 54.8+ KB\n",
      "<class 'pandas.core.frame.DataFrame'>\n",
      "RangeIndex: 1000 entries, 0 to 999\n",
      "Data columns (total 9 columns):\n",
      " #   Column       Non-Null Count  Dtype \n",
      "---  ------       --------------  ----- \n",
      " 0   Report ID    1000 non-null   object\n",
      " 1   Timestamp    1000 non-null   object\n",
      " 2   Miner ID     1000 non-null   object\n",
      " 3   Hazard Type  1000 non-null   object\n",
      " 4   Location     1000 non-null   object\n",
      " 5   Severity     1000 non-null   int64 \n",
      " 6   Description  1000 non-null   object\n",
      " 7   Risk Level   1000 non-null   object\n",
      " 8   Cause        1000 non-null   object\n",
      "dtypes: int64(1), object(8)\n",
      "memory usage: 70.4+ KB\n"
     ]
    },
    {
     "data": {
      "text/plain": [
       "((None,\n",
       "    Incident ID        Date  Location          Hazard Type  Severity  \\\n",
       "  0      I-0001  2024-03-30  Sector A        Gas Explosion         7   \n",
       "  1      I-0002  2021-12-10  Sector A        Gas Explosion         4   \n",
       "  2      I-0003  2024-06-16  Sector A        Gas Explosion         8   \n",
       "  3      I-0004  2023-07-15  Sector D    Equipment Failure         3   \n",
       "  4      I-0005  2022-08-24  Sector A  Structural Collapse         8   \n",
       "  \n",
       "                   Cause     Failure Cause      Equipment Type Risk Level  \\\n",
       "  0     High Temperature  Electrical Fault  Ventilation System     Medium   \n",
       "  1              Unknown      Improper Use    Drilling Machine       High   \n",
       "  2     High Temperature          Overload    Drilling Machine     Medium   \n",
       "  3  Maintenance Neglect          Overload       Conveyor Belt        Low   \n",
       "  4  Maintenance Neglect      Improper Use    Drilling Machine   Critical   \n",
       "  \n",
       "      Recommended Action         Outcome  \n",
       "  0  Improve Ventilation   No Casualties  \n",
       "  1  Improve Ventilation   No Casualties  \n",
       "  2    Inspect Equipment  Major Injuries  \n",
       "  3        Evacuate Area   No Casualties  \n",
       "  4     Enhance Training      1 Fatality  ),\n",
       " (None,\n",
       "    Equipment ID Failure Date                Type Maintenance Date  \\\n",
       "  0       E-0001   2022-08-06       Conveyor Belt       2023-07-31   \n",
       "  1       E-0002   2023-03-14         Pump System       2023-01-31   \n",
       "  2       E-0003   2024-06-03  Ventilation System       2023-05-04   \n",
       "  3       E-0004   2024-04-24    Drilling Machine       2021-12-02   \n",
       "  4       E-0005   2023-02-13  Ventilation System       2021-07-03   \n",
       "  \n",
       "        Failure Cause Risk Level  Severity  \n",
       "  0      Improper Use       High         8  \n",
       "  1       Wear & Tear       High         8  \n",
       "  2  Electrical Fault     Medium         6  \n",
       "  3  Electrical Fault        Low         3  \n",
       "  4           Unknown       High         8  ),\n",
       " (None,\n",
       "    Report ID            Timestamp Miner ID             Hazard Type  Location  \\\n",
       "  0    R-0001  2024-04-01 02:50:20   M-0405               Fire Risk  Sector D   \n",
       "  1    R-0002  2024-04-23 15:55:31   M-0018  Structural Instability  Sector D   \n",
       "  2    R-0003  2024-11-17 03:56:36   M-0141               Fire Risk  Sector C   \n",
       "  3    R-0004  2024-03-15 15:28:12   M-0444   Equipment Malfunction  Sector A   \n",
       "  4    R-0005  2024-10-31 17:38:12   M-0042  Structural Instability  Sector D   \n",
       "  \n",
       "     Severity                       Description Risk Level                Cause  \n",
       "  0         7     Equipment making loud noises.       High    Equipment Failure  \n",
       "  1         8  High temperature near equipment.       High    Equipment Failure  \n",
       "  2         9       Detected unusual gas smell.   Critical        Gas Explosion  \n",
       "  3         5  Noticed cracks in the structure.     Medium  Structural Collapse  \n",
       "  4        10     Equipment making loud noises.   Critical    Equipment Failure  ))"
      ]
     },
     "execution_count": 95,
     "metadata": {},
     "output_type": "execute_result"
    }
   ],
   "source": [
    "# Import pandas and retry loading and displaying the data\n",
    "\n",
    "# Load the datasets\n",
    "historical_data = pd.read_csv('/Users/deepu/Desktop/Mini_Project/Datasets/historical_data.csv')\n",
    "equipment_failure = pd.read_csv('/Users/deepu/Desktop/Mini_Project/Datasets/equipment_failure.csv')\n",
    "minor_hazard_rep = pd.read_csv('/Users/deepu/Desktop/Mini_Project/Datasets/minor_hazard_rep.csv')\n",
    "\n",
    "# Display the first few rows and basic information about each dataset\n",
    "historical_info = historical_data.info()\n",
    "equipment_info = equipment_failure.info()\n",
    "minor_hazard_info = minor_hazard_rep.info()\n",
    "\n",
    "historical_head = historical_data.head()\n",
    "equipment_head = equipment_failure.head()\n",
    "minor_hazard_head = minor_hazard_rep.head()\n",
    "\n",
    "(historical_info, historical_head), (equipment_info, equipment_head), (minor_hazard_info, minor_hazard_head)\n"
   ]
  },
  {
   "cell_type": "code",
   "execution_count": 97,
   "id": "635056f9-16c0-4dc5-a0b2-9e3c1ca4abbc",
   "metadata": {},
   "outputs": [
    {
     "name": "stdout",
     "output_type": "stream",
     "text": [
      "(1000, 9)\n"
     ]
    },
    {
     "name": "stderr",
     "output_type": "stream",
     "text": [
      "[nltk_data] Downloading package stopwords to /Users/deepu/nltk_data...\n",
      "[nltk_data]   Package stopwords is already up-to-date!\n"
     ]
    }
   ],
   "source": [
    "from sklearn.feature_extraction.text import TfidfVectorizer\n",
    "from nltk.corpus import stopwords\n",
    "import nltk\n",
    "\n",
    "# Download stopwords if not already available\n",
    "nltk.download('stopwords')\n",
    "\n",
    "# Load your dataset\n",
    "data = pd.read_csv('/Users/deepu/Desktop/Mini_Project/Datasets/equipment_failure.csv')  # Replace 'your_file.csv' with the correct file path\n",
    "\n",
    "# Assuming the text column is 'Failure Cause' (modify if different)\n",
    "text_data = data['Failure Cause']\n",
    "\n",
    "# Sample text preprocessing function\n",
    "def preprocess_text(data):\n",
    "    # Use 'english' for the stop words parameter\n",
    "    vectorizer = TfidfVectorizer(stop_words='english')\n",
    "    return vectorizer.fit_transform(data)\n",
    "\n",
    "# Preprocess the text data\n",
    "processed_data = preprocess_text(text_data)\n",
    "print(processed_data.shape)\n"
   ]
  },
  {
   "cell_type": "code",
   "execution_count": 99,
   "id": "99b26964-8e2a-4b08-ba11-0d152bb9281b",
   "metadata": {},
   "outputs": [
    {
     "data": {
      "text/plain": [
       "(   Incident ID      Date  Location  Hazard Type  Severity     Cause  \\\n",
       " 0    -1.730320  0.954234 -1.359772     0.424233  0.531053 -1.298855   \n",
       " 1    -1.726856 -1.700508 -1.359772     0.424233 -0.517768  1.412742   \n",
       " 2    -1.723391  1.207837 -1.359772     0.424233  0.880659 -1.298855   \n",
       " 3    -1.719927  0.166445  1.287416    -1.388730 -0.867374  0.508876   \n",
       " 4    -1.716463 -0.885739 -1.359772     1.330715  0.880659  0.508876   \n",
       " \n",
       "    Failure Cause  Equipment Type  Risk Level  Recommended Action   Outcome  \n",
       " 0      -1.385995        1.327007    1.353729            0.466302  1.403390  \n",
       " 1      -0.475952       -0.435286   -0.445246            0.466302  1.403390  \n",
       " 2       0.434090       -0.435286    1.353729            1.371743 -0.700643  \n",
       " 3       0.434090       -1.316433    0.454241           -0.439139  1.403390  \n",
       " 4      -0.475952       -0.435286   -1.344734           -1.344580 -1.401988  ,\n",
       "    Equipment ID  Failure Date      Type  Maintenance Date  Failure Cause  \\\n",
       " 0     -1.730320     -0.925830 -1.500321          1.335660      -0.269754   \n",
       " 1     -1.726856     -0.318424  0.851279          0.775301       1.474343   \n",
       " 2     -1.723391      1.130824  1.439180          1.094758      -0.851119   \n",
       " 3     -1.719927      1.008277 -0.912421         -0.622978      -0.851119   \n",
       " 4     -1.716463     -0.393018  1.439180         -1.104782       0.892977   \n",
       " \n",
       "    Risk Level  Severity  \n",
       " 0   -0.430481  0.475344  \n",
       " 1   -0.430481  0.475344  \n",
       " 2    1.355748 -0.289490  \n",
       " 3    0.462634 -1.436740  \n",
       " 4   -0.430481  0.475344  ,\n",
       "    Report ID  Timestamp  Miner ID  Hazard Type  Location  Severity  \\\n",
       " 0  -1.730320   0.628735  1.035832    -0.406164  1.375779  0.576708   \n",
       " 1  -1.726856   0.749978 -1.644584     1.399010  1.375779  0.929003   \n",
       " 2  -1.723391   1.719927 -0.783309    -0.406164  0.483575  1.281299   \n",
       " 3  -1.719927   0.545596  1.309508    -1.308752 -1.300834 -0.127883   \n",
       " 4  -1.716463   1.647181 -1.475549     1.399010  1.375779  1.633594   \n",
       " \n",
       "    Description  Risk Level     Cause  \n",
       " 0    -0.449182   -0.698103 -0.915775  \n",
       " 1     0.440287   -0.698103 -0.915775  \n",
       " 2    -1.338651   -1.632645  0.290780  \n",
       " 3     1.329756    1.170982  1.497335  \n",
       " 4    -0.449182   -1.632645 -0.915775  )"
      ]
     },
     "execution_count": 99,
     "metadata": {},
     "output_type": "execute_result"
    }
   ],
   "source": [
    "#ANALYSIS\n",
    "\n",
    "# Function to encode categorical features\n",
    "def encode_categorical_columns(df):\n",
    "    le = LabelEncoder()\n",
    "    for col in df.columns:\n",
    "        if df[col].dtype == 'object':\n",
    "            df[col] = le.fit_transform(df[col])\n",
    "    return df\n",
    "\n",
    "# Function to normalize numerical features\n",
    "def normalize_numerical_columns(df):\n",
    "    scaler = StandardScaler()\n",
    "    numeric_cols = df.select_dtypes(include=['int64', 'float64']).columns\n",
    "    df[numeric_cols] = scaler.fit_transform(df[numeric_cols])\n",
    "    return df\n",
    "\n",
    "# Encode categorical and normalize numerical features in each dataset\n",
    "historical_data_encoded = encode_categorical_columns(historical_data.copy())\n",
    "equipment_failure_encoded = encode_categorical_columns(equipment_failure.copy())\n",
    "minor_hazard_rep_encoded = encode_categorical_columns(minor_hazard_rep.copy())\n",
    "\n",
    "historical_data_normalized = normalize_numerical_columns(historical_data_encoded)\n",
    "equipment_failure_normalized = normalize_numerical_columns(equipment_failure_encoded)\n",
    "minor_hazard_rep_normalized = normalize_numerical_columns(minor_hazard_rep_encoded)\n",
    "\n",
    "# Verify preprocessing by displaying a few rows of each dataset\n",
    "historical_data_normalized.head(), equipment_failure_normalized.head(), minor_hazard_rep_normalized.head()\n"
   ]
  },
  {
   "cell_type": "code",
   "execution_count": 101,
   "id": "dc7b6a10-d7d2-487e-8dec-561bccce7b6a",
   "metadata": {},
   "outputs": [],
   "source": [
    "# Extract features and targets\n",
    "features = pd.concat([\n",
    "    equipment_failure[['Risk Level', 'Severity']],\n",
    "    minor_hazard_rep[['Risk Level', 'Severity']]\n",
    "], axis=0)\n",
    "\n",
    "# Define targets (manually set based on your dataset columns)\n",
    "hazard_target = equipment_failure['Risk Level']\n",
    "cause_target = minor_hazard_rep['Severity']\n"
   ]
  },
  {
   "cell_type": "code",
   "execution_count": 103,
   "id": "87789163-479f-4232-8a3b-637503bba725",
   "metadata": {},
   "outputs": [],
   "source": [
    "# Encode categorical features\n",
    "def encode_categorical_columns(df):\n",
    "    le = LabelEncoder()\n",
    "    for col in df.select_dtypes(include=['object']).columns:\n",
    "        df[col] = le.fit_transform(df[col])\n",
    "    return df\n",
    "\n",
    "# Normalize numerical features\n",
    "def normalize_columns(df):\n",
    "    scaler = StandardScaler()\n",
    "    numeric_cols = df.select_dtypes(include=['int64', 'float64']).columns\n",
    "    df[numeric_cols] = scaler.fit_transform(df[numeric_cols])\n",
    "    return df\n",
    "\n",
    "# Preprocessing\n",
    "equipment_failure = encode_categorical_columns(equipment_failure)\n",
    "equipment_failure = normalize_columns(equipment_failure)\n",
    "\n",
    "# Select features and target\n",
    "features = equipment_failure[['Severity', 'Risk Level']]\n",
    "hazard_target = equipment_failure['Risk Level']  # Assuming this is continuous\n",
    "\n",
    "# Convert continuous target to discrete classes (e.g., Low, Medium, High)\n",
    "hazard_target = pd.cut(hazard_target, bins=[-float('inf'), 3, 7, float('inf')], labels=['Low', 'Medium', 'High'])\n",
    "\n",
    "# Split the data into training and testing sets\n",
    "X_train, X_test, y_train, y_test = train_test_split(\n",
    "    features, hazard_target, test_size=0.2, random_state=42, stratify=hazard_target\n",
    ")\n",
    "\n",
    "# Train the model\n",
    "rf_clf = RandomForestClassifier(random_state=42)\n",
    "rf_clf.fit(X_train, y_train)\n",
    "\n",
    "# Predict on the test set\n",
    "y_pred = rf_clf.predict(X_test)\n"
   ]
  },
  {
   "cell_type": "code",
   "execution_count": 105,
   "id": "ea0915e7-9a6c-4821-a0d5-61b3b16fc14b",
   "metadata": {},
   "outputs": [
    {
     "name": "stdout",
     "output_type": "stream",
     "text": [
      "\n",
      "Risk Level Counts for historical_data:\n",
      "Risk Level\n",
      "High        257\n",
      "Low         250\n",
      "Critical    247\n",
      "Medium      246\n",
      "Name: count, dtype: int64\n",
      "\n",
      "Risk Level Counts for equipment_failure:\n",
      "Risk Level\n",
      "Critical    259\n",
      "Low         255\n",
      "Medium      243\n",
      "High        243\n",
      "Name: count, dtype: int64\n",
      "\n",
      "Risk Level Counts for minor_hazard_rep:\n",
      "Risk Level\n",
      "Low         316\n",
      "Medium      303\n",
      "High        206\n",
      "Critical    175\n",
      "Name: count, dtype: int64\n"
     ]
    }
   ],
   "source": [
    "\n",
    "# Load your datasets\n",
    "historical_data = pd.read_csv('/Users/deepu/Desktop/Mini_Project/Datasets/historical_data.csv')\n",
    "equipment_failure = pd.read_csv('/Users/deepu/Desktop/Mini_Project/Datasets/equipment_failure.csv')\n",
    "minor_hazard_rep = pd.read_csv('/Users/deepu/Desktop/Mini_Project/Datasets/minor_hazard_rep.csv')\n",
    "\n",
    "# Check for 'Risk Level' column in each dataset and clean it\n",
    "def clean_and_count_risk_level(df, dataset_name):\n",
    "    if 'Risk Level' not in df.columns:\n",
    "        print(f\"Error: 'Risk Level' column not found in {dataset_name}!\")\n",
    "    else:\n",
    "        # Clean the 'Risk Level' column (standardize and fill missing values)\n",
    "        df['Risk Level'] = df['Risk Level'].fillna('Low')  # Fill missing values with 'Low'\n",
    "        df['Risk Level'] = df['Risk Level'].replace({'low': 'Low', 'medium': 'Medium', 'high': 'High'})  # Standardize labels\n",
    "\n",
    "        # Count the occurrences of each 'Risk Level'\n",
    "        risk_counts = df['Risk Level'].value_counts()\n",
    "\n",
    "        print(f\"\\nRisk Level Counts for {dataset_name}:\")\n",
    "        print(risk_counts)\n",
    "\n",
    "# Clean and count 'Risk Level' for each dataset\n",
    "clean_and_count_risk_level(historical_data, \"historical_data\")\n",
    "clean_and_count_risk_level(equipment_failure, \"equipment_failure\")\n",
    "clean_and_count_risk_level(minor_hazard_rep, \"minor_hazard_rep\")\n"
   ]
  },
  {
   "cell_type": "code",
   "execution_count": 107,
   "id": "2e0d6482-c1d1-4e92-9858-8fd273137698",
   "metadata": {},
   "outputs": [
    {
     "name": "stdout",
     "output_type": "stream",
     "text": [
      "(800, 3) (200, 3) (800,) (200,)\n"
     ]
    }
   ],
   "source": [
    "# Example of defining features and target\n",
    "X = historical_data[['Severity', 'Location', 'Failure Cause']]  # Add other feature columns\n",
    "y = historical_data['Risk Level']  # This is the target column\n",
    "\n",
    "# Split the data into training and testing sets\n",
    "\n",
    "X_train, X_test, y_train, y_test = train_test_split(X, y, test_size=0.2, stratify=y, random_state=42)\n",
    "\n",
    "# Check the shapes of the splits\n",
    "print(X_train.shape, X_test.shape, y_train.shape, y_test.shape)\n"
   ]
  },
  {
   "cell_type": "code",
   "execution_count": 109,
   "id": "defa953b-ed74-411e-8841-1fb710b15022",
   "metadata": {},
   "outputs": [],
   "source": [
    "# Example for encoding 'Location' column\n",
    "encoder = LabelEncoder()\n",
    "\n",
    "# Fit and transform the 'Location' column in X (features)\n",
    "X_train['Location'] = encoder.fit_transform(X_train['Location'])\n",
    "X_test['Location'] = encoder.transform(X_test['Location'])\n"
   ]
  },
  {
   "cell_type": "code",
   "execution_count": 111,
   "id": "c3eb99a6-f11f-4116-ad94-f181a4d7595e",
   "metadata": {},
   "outputs": [
    {
     "name": "stdout",
     "output_type": "stream",
     "text": [
      "            Severity  Risk Level\n",
      "Severity    1.000000   -0.739737\n",
      "Risk Level -0.739737    1.000000\n"
     ]
    }
   ],
   "source": [
    "print(features.corr())\n"
   ]
  },
  {
   "cell_type": "code",
   "execution_count": 113,
   "id": "6d15381e-2b96-44ad-80fd-4c576f2439b5",
   "metadata": {},
   "outputs": [
    {
     "name": "stdout",
     "output_type": "stream",
     "text": [
      "Cross-Validation Accuracy Scores: [0.8, 0.9, 0.85, 0.87, 0.92]\n",
      "Mean Accuracy: 0.8680000000000001\n"
     ]
    }
   ],
   "source": [
    "print(\"Cross-Validation Accuracy Scores:\", cross_val_scores)\n",
    "print(\"Mean Accuracy:\", np.mean(cross_val_scores))\n"
   ]
  },
  {
   "cell_type": "code",
   "execution_count": 115,
   "id": "f7437b73-0b30-4d21-b809-80911a6e63b9",
   "metadata": {},
   "outputs": [
    {
     "data": {
      "image/png": "[encoded data removed]",
      "text/plain": [
       "<Figure size 800x600 with 1 Axes>"
      ]
     },
     "metadata": {},
     "output_type": "display_data"
    }
   ],
   "source": [
    "# Assuming cross_val_scores is an array or list of F1 scores from cross-validation\n",
    "cross_val_scores = [0.8, 0.9, 0.85, 0.87, 0.92]  # Example values\n",
    "\n",
    "# Plotting Cross-Validation F1 Scores\n",
    "plt.figure(figsize=(8, 6))\n",
    "plt.plot(range(1, len(cross_val_scores) + 1), cross_val_scores, marker='o', color='green')\n",
    "plt.title('Cross-Validation F1 Scores')\n",
    "plt.xlabel('Fold')\n",
    "plt.ylabel('F1 Score')\n",
    "plt.xticks(np.arange(1, len(cross_val_scores) + 1))\n",
    "plt.grid(True)\n",
    "plt.show()\n"
   ]
  },
  {
   "cell_type": "code",
   "execution_count": 117,
   "id": "8806ee1c-bcc3-4474-b505-6834d01b19b4",
   "metadata": {},
   "outputs": [
    {
     "data": {
      "image/png": "[encoded data removed]",
      "text/plain": [
       "<Figure size 1000x600 with 1 Axes>"
      ]
     },
     "metadata": {},
     "output_type": "display_data"
    }
   ],
   "source": [
    "import matplotlib.pyplot as plt\n",
    "import numpy as np\n",
    "from sklearn.model_selection import learning_curve\n",
    "from sklearn.ensemble import RandomForestClassifier\n",
    "from sklearn.model_selection import train_test_split\n",
    "from sklearn.datasets import load_iris\n",
    "\n",
    "# Example dataset\n",
    "data = load_iris()\n",
    "X = data.data\n",
    "y = data.target\n",
    "\n",
    "# Split the data into training and testing sets\n",
    "X_train, X_test, y_train, y_test = train_test_split(X, y, test_size=0.3, random_state=42)\n",
    "\n",
    "# Create the model\n",
    "model = RandomForestClassifier(random_state=42)\n",
    "\n",
    "# Calculate learning curve\n",
    "train_sizes, train_scores, test_scores = learning_curve(\n",
    "    model, X_train, y_train, cv=5, n_jobs=-1, train_sizes=np.linspace(0.1, 1.0, 6)\n",
    ")\n",
    "\n",
    "# Plot Learning Curve\n",
    "plt.figure(figsize=(10, 6))\n",
    "plt.plot(train_sizes, train_scores.mean(axis=1), label='Training score', color='blue', marker='o')\n",
    "plt.plot(train_sizes, test_scores.mean(axis=1), label='Cross-validation score', color='red', marker='x')\n",
    "plt.fill_between(train_sizes, train_scores.mean(axis=1) - train_scores.std(axis=1),\n",
    "                 train_scores.mean(axis=1) + train_scores.std(axis=1), alpha=0.1, color='blue')\n",
    "plt.fill_between(train_sizes, test_scores.mean(axis=1) - test_scores.std(axis=1),\n",
    "                 test_scores.mean(axis=1) + test_scores.std(axis=1), alpha=0.1, color='red')\n",
    "plt.xlabel('Training Size')\n",
    "plt.ylabel('Score')\n",
    "plt.title('Learning Curve for Random Forest Classifier')\n",
    "plt.legend()\n",
    "plt.grid(True)\n",
    "plt.show()\n"
   ]
  },
  {
   "cell_type": "code",
   "execution_count": 118,
   "id": "ac2cf9bd-6eb0-4d48-bad0-9b80c1539e56",
   "metadata": {},
   "outputs": [
    {
     "name": "stdout",
     "output_type": "stream",
     "text": [
      "Model Coefficients: [[-0.69418382 -1.09203986 -1.57178472  2.21259493]]\n"
     ]
    }
   ],
   "source": [
    "# Create synthetic data\n",
    "X, y = make_classification(n_samples=100, n_features=4, random_state=42)\n",
    "\n",
    "# Initialize and train the model\n",
    "model = LogisticRegression()\n",
    "model.fit(X, y)\n",
    "\n",
    "# Access coefficients\n",
    "print(\"Model Coefficients:\", model.coef_)\n"
   ]
  },
  {
   "cell_type": "code",
   "execution_count": 119,
   "id": "78287185-c204-43fa-bbf7-f1f0fa7a9f77",
   "metadata": {},
   "outputs": [
    {
     "name": "stdout",
     "output_type": "stream",
     "text": [
      "1.0\n",
      "[[-0.69418382 -1.09203986 -1.57178472  2.21259493]]\n",
      "[0 1]\n"
     ]
    }
   ],
   "source": [
    "print(model.C)          # Regularization strength\n",
    "print(model.coef_)      # Model coefficients\n",
    "print(model.classes_)   # Classes predicted by the model\n"
   ]
  },
  {
   "cell_type": "code",
   "execution_count": 120,
   "id": "f2c5f8a2-4501-4795-afd1-e7d1d2ab29c9",
   "metadata": {},
   "outputs": [
    {
     "name": "stdout",
     "output_type": "stream",
     "text": [
      "Model Coefficients: [[-0.69418382 -1.09203986 -1.57178472  2.21259493]]\n"
     ]
    }
   ],
   "source": [
    "# Check if the model is trained\n",
    "try:\n",
    "    print(\"Model Coefficients:\", model.coef_)\n",
    "except AttributeError:\n",
    "    print(\"The model is not trained. Call the fit() method before accessing coef_.\")\n"
   ]
  },
  {
   "cell_type": "code",
   "execution_count": 121,
   "id": "567b1a3b-d1a9-4f96-8263-8af4d047bff0",
   "metadata": {},
   "outputs": [
    {
     "name": "stdout",
     "output_type": "stream",
     "text": [
      "1.0\n",
      "[[-0.69418382 -1.09203986 -1.57178472  2.21259493]]\n",
      "[0 1]\n"
     ]
    }
   ],
   "source": [
    "print(model.C)          # Regularization strength\n",
    "print(model.coef_)      # Model coefficients\n",
    "print(model.classes_)   # Classes predicted by the model\n"
   ]
  },
  {
   "cell_type": "code",
   "execution_count": null,
   "id": "0547ab22-a719-4965-a2fe-4232152c0fe5",
   "metadata": {},
   "outputs": [],
   "source": [
    "# Load dataset\n",
    "data = load_iris()\n",
    "X, y = data.data, data.target\n",
    "\n",
    "# Split data\n",
    "X_train, X_test, y_train, y_test = train_test_split(X, y, test_size=0.2, random_state=42)\n",
    "\n",
    "# Optional: Encode y if not already discrete\n",
    "# label_encoder = LabelEncoder()\n",
    "# y_train_discrete = label_encoder.fit_transform(y_train)\n",
    "y_train_discrete = y_train  # y is already discrete in this example\n",
    "\n",
    "# Define parameter grid\n",
    "param_grid = {\n",
    "    'n_estimators': [50, 100, 200],\n",
    "    'max_depth': [10, 20, None],\n",
    "    'min_samples_split': [2, 5, 10],\n",
    "    'min_samples_leaf': [1, 2, 4]\n",
    "}\n",
    "\n",
    "# Perform Grid Search\n",
    "grid_search = GridSearchCV(RandomForestClassifier(), param_grid, cv=5, n_jobs=-1, scoring='accuracy')\n",
    "grid_search.fit(X_train, y_train_discrete)\n",
    "\n",
    "# Output results\n",
    "print(\"Best Parameters:\", grid_search.best_params_)\n",
    "best_model = grid_search.best_estimator_\n"
   ]
  },
  {
   "cell_type": "code",
   "execution_count": null,
   "id": "4a1298b1-ac0b-435c-b2a5-c423bfe9f084",
   "metadata": {},
   "outputs": [],
   "source": [
    "# Train the model with a different solver\n",
    "model = LogisticRegression(solver='newton-cg', max_iter=500)  # Use 'newton-cg' or 'liblinear'\n",
    "model.fit(X, y)\n",
    "\n",
    "# Save the trained model\n",
    "joblib.dump(model, 'trained_model.pkl')\n",
    "print(\"Model saved successfully!\")\n"
   ]
  },
  {
   "cell_type": "code",
   "execution_count": null,
   "id": "19b9b24c-dfb5-4d7f-9f02-a17be8c6d24a",
   "metadata": {},
   "outputs": [],
   "source": [
    "# Save the model in a specific folder\n",
    "joblib.dump(model, '/Users/deepu/Desktop/Mini_Project/trained_model.pkl')"
   ]
  },
  {
   "cell_type": "code",
   "execution_count": null,
   "id": "5258e62f-c8b7-44c3-914b-2b70536fc6f2",
   "metadata": {},
   "outputs": [],
   "source": [
    "\n",
    "# Load the trained model\n",
    "model = joblib.load('/Users/deepu/Desktop/Mini_Project/trained_model.pkl')\n",
    "print(\"Model loaded successfully!\")\n"
   ]
  }
 ],
 "metadata": {
  "kernelspec": {
   "display_name": "Python 3 (ipykernel)",
   "language": "python",
   "name": "python3"
  },
  "language_info": {
   "codemirror_mode": {
    "name": "ipython",
    "version": 3
   },
   "file_extension": ".py",
   "mimetype": "text/x-python",
   "name": "python",
   "nbconvert_exporter": "python",
   "pygments_lexer": "ipython3",
   "version": "3.12.4"
  }
 },
 "nbformat": 4,
 "nbformat_minor": 5
}
